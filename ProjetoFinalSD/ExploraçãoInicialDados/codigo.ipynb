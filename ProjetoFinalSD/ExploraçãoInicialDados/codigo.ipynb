{
 "cells": [
  {
   "cell_type": "markdown",
   "id": "10eff57c",
   "metadata": {},
   "source": [
    "# Exploração dos Dados\n"
   ]
  },
  {
   "cell_type": "markdown",
   "id": "8e912ad8",
   "metadata": {},
   "source": [
    "## API IBGE\n"
   ]
  },
  {
   "cell_type": "markdown",
   "id": "b4127c5e",
   "metadata": {},
   "source": [
    "Em primeiro momento meu objetivo é obter os nomes de todas as cidades do brasil. Essa lista será utilizada posteriormente para realizar buscas em uma API principal de dados climáticos. A estratégia será \n",
    "implementar buscas paralelas, utilizando threads, de forma que cada cidade seja consultada individualmente e simultaneamente. Isso visa otimizar o tempo total de coleta dos dados climáticos e melhorar a eficiência do processo.\n"
   ]
  },
  {
   "cell_type": "code",
   "execution_count": 107,
   "id": "fb1f74ed",
   "metadata": {},
   "outputs": [],
   "source": [
    "import requests\n",
    "import pandas as pd"
   ]
  },
  {
   "cell_type": "code",
   "execution_count": null,
   "id": "ac1a0da0",
   "metadata": {},
   "outputs": [],
   "source": [
    "url_ibge = 'https://servicodados.ibge.gov.br/api/v1/localidades/municipios'\n",
    "r = requests.get(url_ibge)\n",
    "if r.status_code == 200:\n",
    "    lista = r.json()\n",
    "else:\n",
    "    print(f\"Erro na requisição: {r.status_code}\")"
   ]
  },
  {
   "cell_type": "code",
   "execution_count": 109,
   "id": "aa25ecb8",
   "metadata": {},
   "outputs": [
    {
     "data": {
      "text/plain": [
       "{'id': 1100015,\n",
       " 'nome': \"Alta Floresta D'Oeste\",\n",
       " 'microrregiao': {'id': 11006,\n",
       "  'nome': 'Cacoal',\n",
       "  'mesorregiao': {'id': 1102,\n",
       "   'nome': 'Leste Rondoniense',\n",
       "   'UF': {'id': 11,\n",
       "    'sigla': 'RO',\n",
       "    'nome': 'Rondônia',\n",
       "    'regiao': {'id': 1, 'sigla': 'N', 'nome': 'Norte'}}}},\n",
       " 'regiao-imediata': {'id': 110005,\n",
       "  'nome': 'Cacoal',\n",
       "  'regiao-intermediaria': {'id': 1102,\n",
       "   'nome': 'Ji-Paraná',\n",
       "   'UF': {'id': 11,\n",
       "    'sigla': 'RO',\n",
       "    'nome': 'Rondônia',\n",
       "    'regiao': {'id': 1, 'sigla': 'N', 'nome': 'Norte'}}}}}"
      ]
     },
     "execution_count": 109,
     "metadata": {},
     "output_type": "execute_result"
    }
   ],
   "source": [
    "lista[0]"
   ]
  },
  {
   "cell_type": "code",
   "execution_count": 110,
   "id": "a294b2bf",
   "metadata": {},
   "outputs": [
    {
     "data": {
      "text/plain": [
       "'Rondônia'"
      ]
     },
     "execution_count": 110,
     "metadata": {},
     "output_type": "execute_result"
    }
   ],
   "source": [
    "lista[0]['microrregiao']['mesorregiao']['UF']['nome']"
   ]
  },
  {
   "cell_type": "code",
   "execution_count": 111,
   "id": "44244c3a",
   "metadata": {},
   "outputs": [],
   "source": [
    "lista_municipios = []"
   ]
  },
  {
   "cell_type": "code",
   "execution_count": 112,
   "id": "e98e8c09",
   "metadata": {},
   "outputs": [
    {
     "ename": "TypeError",
     "evalue": "'NoneType' object is not subscriptable",
     "output_type": "error",
     "traceback": [
      "\u001b[31m---------------------------------------------------------------------------\u001b[39m",
      "\u001b[31mTypeError\u001b[39m                                 Traceback (most recent call last)",
      "\u001b[36mCell\u001b[39m\u001b[36m \u001b[39m\u001b[32mIn[112]\u001b[39m\u001b[32m, line 2\u001b[39m\n\u001b[32m      1\u001b[39m \u001b[38;5;28;01mfor\u001b[39;00m posicao \u001b[38;5;129;01min\u001b[39;00m lista:\n\u001b[32m----> \u001b[39m\u001b[32m2\u001b[39m     lista_municipios.append({\u001b[33m'\u001b[39m\u001b[33mCidade\u001b[39m\u001b[33m'\u001b[39m : posicao[\u001b[33m'\u001b[39m\u001b[33mnome\u001b[39m\u001b[33m'\u001b[39m],\u001b[33m'\u001b[39m\u001b[33mEstado\u001b[39m\u001b[33m'\u001b[39m : \u001b[43mposicao\u001b[49m\u001b[43m[\u001b[49m\u001b[33;43m'\u001b[39;49m\u001b[33;43mmicrorregiao\u001b[39;49m\u001b[33;43m'\u001b[39;49m\u001b[43m]\u001b[49m\u001b[43m[\u001b[49m\u001b[33;43m'\u001b[39;49m\u001b[33;43mmesorregiao\u001b[39;49m\u001b[33;43m'\u001b[39;49m\u001b[43m]\u001b[49m[\u001b[33m'\u001b[39m\u001b[33mUF\u001b[39m\u001b[33m'\u001b[39m][\u001b[33m'\u001b[39m\u001b[33mnome\u001b[39m\u001b[33m'\u001b[39m]})\n",
      "\u001b[31mTypeError\u001b[39m: 'NoneType' object is not subscriptable"
     ]
    }
   ],
   "source": [
    "for posicao in lista:\n",
    "    lista_municipios.append({'Cidade' : posicao['nome'],'Estado' : posicao['microrregiao']['mesorregiao']['UF']['nome']})\n",
    "    \n",
    "\n",
    "\n",
    "        \n",
    "        "
   ]
  },
  {
   "cell_type": "code",
   "execution_count": null,
   "id": "ed42daa7",
   "metadata": {},
   "outputs": [
    {
     "data": {
      "text/plain": [
       "5199"
      ]
     },
     "execution_count": 50,
     "metadata": {},
     "output_type": "execute_result"
    }
   ],
   "source": [
    "len(lista_municipios)"
   ]
  },
  {
   "cell_type": "code",
   "execution_count": null,
   "id": "c5b7e30c",
   "metadata": {},
   "outputs": [
    {
     "data": {
      "text/html": [
       "<div>\n",
       "<style scoped>\n",
       "    .dataframe tbody tr th:only-of-type {\n",
       "        vertical-align: middle;\n",
       "    }\n",
       "\n",
       "    .dataframe tbody tr th {\n",
       "        vertical-align: top;\n",
       "    }\n",
       "\n",
       "    .dataframe thead th {\n",
       "        text-align: right;\n",
       "    }\n",
       "</style>\n",
       "<table border=\"1\" class=\"dataframe\">\n",
       "  <thead>\n",
       "    <tr style=\"text-align: right;\">\n",
       "      <th></th>\n",
       "      <th>Cidade</th>\n",
       "      <th>Estado</th>\n",
       "    </tr>\n",
       "  </thead>\n",
       "  <tbody>\n",
       "    <tr>\n",
       "      <th>0</th>\n",
       "      <td>Alta Floresta D'Oeste</td>\n",
       "      <td>Rondônia</td>\n",
       "    </tr>\n",
       "    <tr>\n",
       "      <th>1</th>\n",
       "      <td>Ariquemes</td>\n",
       "      <td>Rondônia</td>\n",
       "    </tr>\n",
       "    <tr>\n",
       "      <th>2</th>\n",
       "      <td>Cabixi</td>\n",
       "      <td>Rondônia</td>\n",
       "    </tr>\n",
       "    <tr>\n",
       "      <th>3</th>\n",
       "      <td>Cacoal</td>\n",
       "      <td>Rondônia</td>\n",
       "    </tr>\n",
       "    <tr>\n",
       "      <th>4</th>\n",
       "      <td>Cerejeiras</td>\n",
       "      <td>Rondônia</td>\n",
       "    </tr>\n",
       "    <tr>\n",
       "      <th>...</th>\n",
       "      <td>...</td>\n",
       "      <td>...</td>\n",
       "    </tr>\n",
       "    <tr>\n",
       "      <th>5194</th>\n",
       "      <td>Arenápolis</td>\n",
       "      <td>Mato Grosso</td>\n",
       "    </tr>\n",
       "    <tr>\n",
       "      <th>5195</th>\n",
       "      <td>Aripuanã</td>\n",
       "      <td>Mato Grosso</td>\n",
       "    </tr>\n",
       "    <tr>\n",
       "      <th>5196</th>\n",
       "      <td>Barão de Melgaço</td>\n",
       "      <td>Mato Grosso</td>\n",
       "    </tr>\n",
       "    <tr>\n",
       "      <th>5197</th>\n",
       "      <td>Barra do Bugres</td>\n",
       "      <td>Mato Grosso</td>\n",
       "    </tr>\n",
       "    <tr>\n",
       "      <th>5198</th>\n",
       "      <td>Barra do Garças</td>\n",
       "      <td>Mato Grosso</td>\n",
       "    </tr>\n",
       "  </tbody>\n",
       "</table>\n",
       "<p>5199 rows × 2 columns</p>\n",
       "</div>"
      ],
      "text/plain": [
       "                     Cidade       Estado\n",
       "0     Alta Floresta D'Oeste     Rondônia\n",
       "1                 Ariquemes     Rondônia\n",
       "2                    Cabixi     Rondônia\n",
       "3                    Cacoal     Rondônia\n",
       "4                Cerejeiras     Rondônia\n",
       "...                     ...          ...\n",
       "5194             Arenápolis  Mato Grosso\n",
       "5195               Aripuanã  Mato Grosso\n",
       "5196       Barão de Melgaço  Mato Grosso\n",
       "5197        Barra do Bugres  Mato Grosso\n",
       "5198        Barra do Garças  Mato Grosso\n",
       "\n",
       "[5199 rows x 2 columns]"
      ]
     },
     "execution_count": 64,
     "metadata": {},
     "output_type": "execute_result"
    }
   ],
   "source": [
    "teste = pd.DataFrame(lista_municipios)\n",
    "teste"
   ]
  },
  {
   "cell_type": "code",
   "execution_count": null,
   "id": "68963c6e",
   "metadata": {},
   "outputs": [],
   "source": []
  }
 ],
 "metadata": {
  "kernelspec": {
   "display_name": "Python 3",
   "language": "python",
   "name": "python3"
  },
  "language_info": {
   "codemirror_mode": {
    "name": "ipython",
    "version": 3
   },
   "file_extension": ".py",
   "mimetype": "text/x-python",
   "name": "python",
   "nbconvert_exporter": "python",
   "pygments_lexer": "ipython3",
   "version": "3.12.10"
  }
 },
 "nbformat": 4,
 "nbformat_minor": 5
}
